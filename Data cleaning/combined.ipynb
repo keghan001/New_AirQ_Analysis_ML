{
 "cells": [
  {
   "cell_type": "code",
   "execution_count": 34,
   "metadata": {},
   "outputs": [],
   "source": [
    "import pandas as pd \n",
    "import numpy as np "
   ]
  },
  {
   "cell_type": "code",
   "execution_count": 35,
   "metadata": {},
   "outputs": [],
   "source": [
    "files = [\"comb\\dat1.csv\", \"comb/dat2.csv\", \"comb/dat3.csv\", \"comb/dat4.csv\", \"comb/dat5.csv\", \"comb/dat6.csv\",]"
   ]
  },
  {
   "cell_type": "code",
   "execution_count": 36,
   "metadata": {},
   "outputs": [
    {
     "name": "stderr",
     "output_type": "stream",
     "text": [
      "C:\\Users\\kwesi\\AppData\\Local\\Temp\\ipykernel_7840\\1163763678.py:4: FutureWarning: The frame.append method is deprecated and will be removed from pandas in a future version. Use pandas.concat instead.\n",
      "  df = df.append(pd.read_csv(cfile, header=None))\n",
      "C:\\Users\\kwesi\\AppData\\Local\\Temp\\ipykernel_7840\\1163763678.py:4: FutureWarning: The frame.append method is deprecated and will be removed from pandas in a future version. Use pandas.concat instead.\n",
      "  df = df.append(pd.read_csv(cfile, header=None))\n",
      "C:\\Users\\kwesi\\AppData\\Local\\Temp\\ipykernel_7840\\1163763678.py:4: FutureWarning: The frame.append method is deprecated and will be removed from pandas in a future version. Use pandas.concat instead.\n",
      "  df = df.append(pd.read_csv(cfile, header=None))\n",
      "C:\\Users\\kwesi\\AppData\\Local\\Temp\\ipykernel_7840\\1163763678.py:4: FutureWarning: The frame.append method is deprecated and will be removed from pandas in a future version. Use pandas.concat instead.\n",
      "  df = df.append(pd.read_csv(cfile, header=None))\n",
      "C:\\Users\\kwesi\\AppData\\Local\\Temp\\ipykernel_7840\\1163763678.py:4: FutureWarning: The frame.append method is deprecated and will be removed from pandas in a future version. Use pandas.concat instead.\n",
      "  df = df.append(pd.read_csv(cfile, header=None))\n",
      "C:\\Users\\kwesi\\AppData\\Local\\Temp\\ipykernel_7840\\1163763678.py:4: FutureWarning: The frame.append method is deprecated and will be removed from pandas in a future version. Use pandas.concat instead.\n",
      "  df = df.append(pd.read_csv(cfile, header=None))\n"
     ]
    }
   ],
   "source": [
    "df = pd.DataFrame()\n",
    "\n",
    "for cfile in files:\n",
    "    df = df.append(pd.read_csv(cfile, header=None))"
   ]
  },
  {
   "cell_type": "code",
   "execution_count": 37,
   "metadata": {},
   "outputs": [
    {
     "name": "stdout",
     "output_type": "stream",
     "text": [
      "<class 'pandas.core.frame.DataFrame'>\n",
      "Int64Index: 130081 entries, 0 to 17247\n",
      "Data columns (total 11 columns):\n",
      " #   Column  Non-Null Count   Dtype  \n",
      "---  ------  --------------   -----  \n",
      " 0   0       130081 non-null  object \n",
      " 1   1       130081 non-null  float64\n",
      " 2   2       130081 non-null  float64\n",
      " 3   3       130081 non-null  float64\n",
      " 4   4       130081 non-null  float64\n",
      " 5   5       130081 non-null  float64\n",
      " 6   6       130081 non-null  float64\n",
      " 7   7       130081 non-null  float64\n",
      " 8   8       130081 non-null  float64\n",
      " 9   9       130081 non-null  float64\n",
      " 10  10      130081 non-null  float64\n",
      "dtypes: float64(10), object(1)\n",
      "memory usage: 11.9+ MB\n"
     ]
    }
   ],
   "source": [
    "df.info()"
   ]
  },
  {
   "cell_type": "code",
   "execution_count": 38,
   "metadata": {},
   "outputs": [],
   "source": [
    "df.to_csv(\"sensor_data.csv\", header=None)"
   ]
  },
  {
   "cell_type": "code",
   "execution_count": 42,
   "metadata": {},
   "outputs": [],
   "source": [
    "df = pd.read_csv(\"sensor_data.csv\", parse_dates=True, header=None) #, index_col=\"Datetime\"\n",
    "df.columns = [\"Datetime\",\"Temperature\", \"Humidity\" , \"Pressure\", \"Altitude\" ,\"CO\" ,\"CO2\" ,\"NH4\", \"PM1.0\" ,\"PM2.5\", \"PM10.0\"]\n",
    "df['Datetime'] = pd.to_datetime(df[\"Datetime\"], format='%Y-%m-%d %H:%M:%S')\n",
    "\n",
    "quantities = ['Temperature', 'Rel. Humidity', 'Pressure', 'CO', r'CO$_2$', r'NH$_3$', r'PM$_{1}$', \n",
    "                  'PM$_{2.5}$', 'PM$_{10}$']\n",
    "units = [r'$^o$C','%', 'hPa','ppm','ppm','ppm',r'$\\mu g/m^3$ ',r'$\\mu g/m^3$ ',r'$\\mu g/m^3$ ']\n",
    "df = df.set_index(\"Datetime\")"
   ]
  },
  {
   "cell_type": "code",
   "execution_count": 43,
   "metadata": {},
   "outputs": [
    {
     "name": "stdout",
     "output_type": "stream",
     "text": [
      "<class 'pandas.core.frame.DataFrame'>\n",
      "DatetimeIndex: 130081 entries, 2023-06-05 10:12:43 to 2023-07-23 21:56:40\n",
      "Data columns (total 10 columns):\n",
      " #   Column       Non-Null Count   Dtype  \n",
      "---  ------       --------------   -----  \n",
      " 0   Temperature  130081 non-null  float64\n",
      " 1   Humidity     130081 non-null  float64\n",
      " 2   Pressure     130081 non-null  float64\n",
      " 3   Altitude     130081 non-null  float64\n",
      " 4   CO           130081 non-null  float64\n",
      " 5   CO2          130081 non-null  float64\n",
      " 6   NH4          130081 non-null  float64\n",
      " 7   PM1.0        130081 non-null  int64  \n",
      " 8   PM2.5        130081 non-null  int64  \n",
      " 9   PM10.0       130081 non-null  int64  \n",
      "dtypes: float64(7), int64(3)\n",
      "memory usage: 10.9 MB\n"
     ]
    }
   ],
   "source": [
    "df.info()"
   ]
  },
  {
   "cell_type": "code",
   "execution_count": 8,
   "metadata": {},
   "outputs": [],
   "source": [
    "df.to_csv(\"sensor_data_final.csv\", header=None)"
   ]
  }
 ],
 "metadata": {
  "kernelspec": {
   "display_name": "Python 3",
   "language": "python",
   "name": "python3"
  },
  "language_info": {
   "codemirror_mode": {
    "name": "ipython",
    "version": 3
   },
   "file_extension": ".py",
   "mimetype": "text/x-python",
   "name": "python",
   "nbconvert_exporter": "python",
   "pygments_lexer": "ipython3",
   "version": "3.10.5"
  },
  "orig_nbformat": 4
 },
 "nbformat": 4,
 "nbformat_minor": 2
}
